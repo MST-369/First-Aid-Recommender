{
 "cells": [
  {
   "cell_type": "code",
   "execution_count": 147,
   "id": "c0b24a48",
   "metadata": {},
   "outputs": [],
   "source": [
    "import pandas as pd\n",
    "from sklearn.model_selection import train_test_split\n",
    "from sklearn.preprocessing import StandardScaler\n",
    "import tensorflow as tf\n",
    "from tensorflow.keras import Sequential\n",
    "from tensorflow.keras.layers import Dense\n",
    "import numpy as np\n",
    "\n",
    "data = pd.read_csv('C:/Users/KOTA SRI SURYA TEJA/Desktop/Capstone/Output.csv')\n",
    "\n",
    "\n",
    "\n",
    "X = data.iloc[:, 1:-1].values  # skipping the segment and label\n",
    "y = data.iloc[:, -1].values   # considering only labels\n",
    "\n",
    "# Split the data into training and testing sets\n",
    "X_train, X_test, y_train, y_test = train_test_split(X, y, test_size=0.2, random_state=42)\n",
    "\n",
    "scaler = StandardScaler()\n",
    "X_train = scaler.fit_transform(X_train)\n",
    "X_test = scaler.transform(X_test)\n",
    "\n",
    "# X_train = np.array(X_train)\n",
    "# X_test = np.array(X_test)\n",
    "\n",
    "# ma = X_train.max()\n",
    "# mi = X_train.min()\n",
    "\n",
    "# X_train = (X_train - mi)/(ma-mi)\n",
    "# X_test = (X_test - mi)/(ma-mi)"
   ]
  },
  {
   "cell_type": "code",
   "execution_count": 148,
   "id": "28c171fe",
   "metadata": {},
   "outputs": [
    {
     "name": "stdout",
     "output_type": "stream",
     "text": [
      "Model: \"sequential_26\"\n",
      "_________________________________________________________________\n",
      "Layer (type)                 Output Shape              Param #   \n",
      "=================================================================\n",
      "dense_78 (Dense)             (None, 32)                864       \n",
      "_________________________________________________________________\n",
      "dense_79 (Dense)             (None, 64)                2112      \n",
      "_________________________________________________________________\n",
      "dense_80 (Dense)             (None, 1)                 65        \n",
      "=================================================================\n",
      "Total params: 3,041\n",
      "Trainable params: 3,041\n",
      "Non-trainable params: 0\n",
      "_________________________________________________________________\n"
     ]
    },
    {
     "data": {
      "text/plain": [
       "(None, 26)"
      ]
     },
     "execution_count": 148,
     "metadata": {},
     "output_type": "execute_result"
    }
   ],
   "source": [
    "\n",
    "\n",
    "model = Sequential([\n",
    "    Dense(32, activation='relu', input_shape=(X_train.shape[1],)),  # Hidden layer with 64 units\n",
    "    Dense(64, activation='relu'),  # Another hidden layer\n",
    "    Dense(1, activation='sigmoid')  # Output layer for binary classification\n",
    "])\n",
    "\n",
    "# Compile the model\n",
    "model.compile(optimizer='adam', loss='binary_crossentropy', metrics=['accuracy'])\n",
    "\n",
    "# Summary of the model\n",
    "model.summary(),X_train.shape[1]"
   ]
  },
  {
   "cell_type": "code",
   "execution_count": 149,
   "id": "dbe7e3ae",
   "metadata": {},
   "outputs": [
    {
     "name": "stdout",
     "output_type": "stream",
     "text": [
      "Epoch 1/30\n",
      "3/3 [==============================] - 0s 29ms/step - loss: 0.7302 - accuracy: 0.5000 - val_loss: 0.6769 - val_accuracy: 0.4000\n",
      "Epoch 2/30\n",
      "3/3 [==============================] - 0s 7ms/step - loss: 0.6840 - accuracy: 0.5000 - val_loss: 0.6123 - val_accuracy: 0.4000\n",
      "Epoch 3/30\n",
      "3/3 [==============================] - 0s 6ms/step - loss: 0.6530 - accuracy: 0.5455 - val_loss: 0.5569 - val_accuracy: 0.6000\n",
      "Epoch 4/30\n",
      "3/3 [==============================] - 0s 6ms/step - loss: 0.6363 - accuracy: 0.5455 - val_loss: 0.5132 - val_accuracy: 0.6000\n",
      "Epoch 5/30\n",
      "3/3 [==============================] - 0s 6ms/step - loss: 0.6146 - accuracy: 0.5682 - val_loss: 0.4853 - val_accuracy: 0.6000\n",
      "Epoch 6/30\n",
      "3/3 [==============================] - 0s 9ms/step - loss: 0.6010 - accuracy: 0.5682 - val_loss: 0.4621 - val_accuracy: 0.6000\n",
      "Epoch 7/30\n",
      "3/3 [==============================] - 0s 6ms/step - loss: 0.5873 - accuracy: 0.5909 - val_loss: 0.4472 - val_accuracy: 0.6000\n",
      "Epoch 8/30\n",
      "3/3 [==============================] - 0s 5ms/step - loss: 0.5755 - accuracy: 0.5909 - val_loss: 0.4341 - val_accuracy: 0.6000\n",
      "Epoch 9/30\n",
      "3/3 [==============================] - 0s 6ms/step - loss: 0.5646 - accuracy: 0.6364 - val_loss: 0.4231 - val_accuracy: 0.6000\n",
      "Epoch 10/30\n",
      "3/3 [==============================] - 0s 6ms/step - loss: 0.5556 - accuracy: 0.6818 - val_loss: 0.4116 - val_accuracy: 0.6000\n",
      "Epoch 11/30\n",
      "3/3 [==============================] - 0s 7ms/step - loss: 0.5445 - accuracy: 0.6818 - val_loss: 0.4039 - val_accuracy: 0.8000\n",
      "Epoch 12/30\n",
      "3/3 [==============================] - 0s 10ms/step - loss: 0.5358 - accuracy: 0.7045 - val_loss: 0.3955 - val_accuracy: 1.0000\n",
      "Epoch 13/30\n",
      "3/3 [==============================] - 0s 6ms/step - loss: 0.5280 - accuracy: 0.7727 - val_loss: 0.3865 - val_accuracy: 1.0000\n",
      "Epoch 14/30\n",
      "3/3 [==============================] - 0s 6ms/step - loss: 0.5207 - accuracy: 0.8409 - val_loss: 0.3777 - val_accuracy: 1.0000\n",
      "Epoch 15/30\n",
      "3/3 [==============================] - 0s 5ms/step - loss: 0.5132 - accuracy: 0.8636 - val_loss: 0.3640 - val_accuracy: 1.0000\n",
      "Epoch 16/30\n",
      "3/3 [==============================] - 0s 6ms/step - loss: 0.5054 - accuracy: 0.8636 - val_loss: 0.3542 - val_accuracy: 1.0000\n",
      "Epoch 17/30\n",
      "3/3 [==============================] - 0s 6ms/step - loss: 0.4990 - accuracy: 0.8636 - val_loss: 0.3462 - val_accuracy: 1.0000\n",
      "Epoch 18/30\n",
      "3/3 [==============================] - 0s 5ms/step - loss: 0.4931 - accuracy: 0.8864 - val_loss: 0.3322 - val_accuracy: 1.0000\n",
      "Epoch 19/30\n",
      "3/3 [==============================] - 0s 7ms/step - loss: 0.4862 - accuracy: 0.8636 - val_loss: 0.3259 - val_accuracy: 1.0000\n",
      "Epoch 20/30\n",
      "3/3 [==============================] - 0s 5ms/step - loss: 0.4794 - accuracy: 0.8636 - val_loss: 0.3169 - val_accuracy: 1.0000\n",
      "Epoch 21/30\n",
      "3/3 [==============================] - 0s 6ms/step - loss: 0.4729 - accuracy: 0.8636 - val_loss: 0.3066 - val_accuracy: 1.0000\n",
      "Epoch 22/30\n",
      "3/3 [==============================] - 0s 7ms/step - loss: 0.4662 - accuracy: 0.8636 - val_loss: 0.2975 - val_accuracy: 1.0000\n",
      "Epoch 23/30\n",
      "3/3 [==============================] - 0s 9ms/step - loss: 0.4620 - accuracy: 0.8409 - val_loss: 0.2893 - val_accuracy: 1.0000\n",
      "Epoch 24/30\n",
      "3/3 [==============================] - 0s 6ms/step - loss: 0.4561 - accuracy: 0.8409 - val_loss: 0.2795 - val_accuracy: 1.0000\n",
      "Epoch 25/30\n",
      "3/3 [==============================] - 0s 6ms/step - loss: 0.4486 - accuracy: 0.8409 - val_loss: 0.2763 - val_accuracy: 1.0000\n",
      "Epoch 26/30\n",
      "3/3 [==============================] - 0s 6ms/step - loss: 0.4470 - accuracy: 0.8409 - val_loss: 0.2784 - val_accuracy: 1.0000\n",
      "Epoch 27/30\n",
      "3/3 [==============================] - 0s 6ms/step - loss: 0.4384 - accuracy: 0.8182 - val_loss: 0.2676 - val_accuracy: 1.0000\n",
      "Epoch 28/30\n",
      "3/3 [==============================] - 0s 6ms/step - loss: 0.4310 - accuracy: 0.8409 - val_loss: 0.2614 - val_accuracy: 1.0000\n",
      "Epoch 29/30\n",
      "3/3 [==============================] - 0s 4ms/step - loss: 0.4253 - accuracy: 0.8409 - val_loss: 0.2570 - val_accuracy: 1.0000\n",
      "Epoch 30/30\n",
      "3/3 [==============================] - 0s 6ms/step - loss: 0.4196 - accuracy: 0.8182 - val_loss: 0.2539 - val_accuracy: 1.0000\n"
     ]
    }
   ],
   "source": [
    "# Train the model\n",
    "history = model.fit(X_train, y_train, epochs=30, batch_size=16, validation_split=0.1)\n"
   ]
  },
  {
   "cell_type": "code",
   "execution_count": 150,
   "id": "90678bad",
   "metadata": {},
   "outputs": [
    {
     "name": "stdout",
     "output_type": "stream",
     "text": [
      "1/1 [==============================] - 0s 908us/step - loss: 0.3858 - accuracy: 0.8462\n",
      "Test Accuracy: 0.8461538553237915\n"
     ]
    }
   ],
   "source": [
    "# Evaluate the model\n",
    "test_loss, test_acc = model.evaluate(X_test, y_test)\n",
    "print(f'Test Accuracy: {test_acc}')\n"
   ]
  },
  {
   "cell_type": "code",
   "execution_count": 151,
   "id": "4b96c93c",
   "metadata": {},
   "outputs": [
    {
     "data": {
      "image/png": "[encoded data removed]",
      "text/plain": [
       "<Figure size 640x480 with 1 Axes>"
      ]
     },
     "metadata": {},
     "output_type": "display_data"
    }
   ],
   "source": [
    "import matplotlib.pyplot as plt \n",
    "\n",
    "plt.plot(range(0,len(history.history['accuracy'])),history.history['accuracy'],label='Accuracy')\n",
    "plt.plot(range(0,len(history.history['loss'])),history.history['loss'],label='loss')\n",
    "plt.plot(range(0,len(history.history['val_loss'])),history.history['val_loss'],label='val_loss')\n",
    "plt.plot(range(0,len(history.history['val_accuracy'])),history.history['val_accuracy'],label='val_accuracy')\n",
    "plt.legend()\n",
    "plt.show()"
   ]
  },
  {
   "cell_type": "markdown",
   "id": "e762b92d",
   "metadata": {},
   "source": [
    "### Save the Model"
   ]
  },
  {
   "cell_type": "code",
   "execution_count": 152,
   "id": "2b7ec5c4",
   "metadata": {},
   "outputs": [],
   "source": [
    "model.save('C:/Users/KOTA SRI SURYA TEJA/Desktop/Capstone/final_model.h5')"
   ]
  },
  {
   "cell_type": "markdown",
   "id": "aed0fde1",
   "metadata": {},
   "source": [
    " ### Save the StandardScaler normalization values"
   ]
  },
  {
   "cell_type": "code",
   "execution_count": 153,
   "id": "6409de96",
   "metadata": {},
   "outputs": [
    {
     "data": {
      "text/plain": [
       "['C:/Users/KOTA SRI SURYA TEJA/Desktop/Capstone/scaler.pkl']"
      ]
     },
     "execution_count": 153,
     "metadata": {},
     "output_type": "execute_result"
    }
   ],
   "source": [
    "import joblib\n",
    "joblib.dump(scaler, 'C:/Users/KOTA SRI SURYA TEJA/Desktop/Capstone/scaler.pkl')"
   ]
  },
  {
   "cell_type": "code",
   "execution_count": 154,
   "id": "3b9b99ab",
   "metadata": {},
   "outputs": [],
   "source": [
    "scaler = joblib.load('C:/Users/KOTA SRI SURYA TEJA/Desktop/Capstone/scaler.pkl')\n"
   ]
  },
  {
   "cell_type": "code",
   "execution_count": null,
   "id": "6fbfd09a",
   "metadata": {},
   "outputs": [],
   "source": []
  }
 ],
 "metadata": {
  "kernelspec": {
   "display_name": "main",
   "language": "python",
   "name": "main"
  },
  "language_info": {
   "codemirror_mode": {
    "name": "ipython",
    "version": 3
   },
   "file_extension": ".py",
   "mimetype": "text/x-python",
   "name": "python",
   "nbconvert_exporter": "python",
   "pygments_lexer": "ipython3",
   "version": "3.8.19"
  }
 },
 "nbformat": 4,
 "nbformat_minor": 5
}
