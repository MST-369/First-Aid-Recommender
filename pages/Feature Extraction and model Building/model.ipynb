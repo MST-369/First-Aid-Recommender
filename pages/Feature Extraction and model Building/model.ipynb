{
 "cells": [
  {
   "cell_type": "code",
   "execution_count": 85,
   "id": "c0b24a48",
   "metadata": {},
   "outputs": [],
   "source": [
    "import pandas as pd\n",
    "from sklearn.model_selection import train_test_split\n",
    "from sklearn.preprocessing import StandardScaler\n",
    "import tensorflow as tf\n",
    "from tensorflow.keras import Sequential\n",
    "from tensorflow.keras.layers import Dense\n",
    "import numpy as np\n",
    "\n",
    "data = pd.read_csv('C:/Users/KOTA SRI SURYA TEJA/Desktop/Capstone/Output.csv')\n",
    "\n",
    "\n",
    "\n",
    "X = data.iloc[:, 1:-1].values  # skipping the segment and label\n",
    "y = data.iloc[:, -1].values   # considering only labels\n",
    "\n",
    "# Split the data into training and testing sets\n",
    "X_train, X_test, y_train, y_test = train_test_split(X, y, test_size=0.2, random_state=42)\n",
    "\n",
    "scaler = StandardScaler()\n",
    "X_train = scaler.fit_transform(X_train)\n",
    "X_test = scaler.transform(X_test)\n",
    "\n",
    "# X_train = np.array(X_train)\n",
    "# X_test = np.array(X_test)\n",
    "\n",
    "# ma = X_train.max()\n",
    "# mi = X_train.min()\n",
    "\n",
    "# X_train = (X_train - mi)/(ma-mi)\n",
    "# X_test = (X_test - mi)/(ma-mi)"
   ]
  },
  {
   "cell_type": "code",
   "execution_count": 86,
   "id": "28c171fe",
   "metadata": {},
   "outputs": [
    {
     "name": "stdout",
     "output_type": "stream",
     "text": [
      "Model: \"sequential_13\"\n",
      "_________________________________________________________________\n",
      "Layer (type)                 Output Shape              Param #   \n",
      "=================================================================\n",
      "dense_39 (Dense)             (None, 32)                864       \n",
      "_________________________________________________________________\n",
      "dense_40 (Dense)             (None, 64)                2112      \n",
      "_________________________________________________________________\n",
      "dense_41 (Dense)             (None, 1)                 65        \n",
      "=================================================================\n",
      "Total params: 3,041\n",
      "Trainable params: 3,041\n",
      "Non-trainable params: 0\n",
      "_________________________________________________________________\n"
     ]
    },
    {
     "data": {
      "text/plain": [
       "(None, 26)"
      ]
     },
     "execution_count": 86,
     "metadata": {},
     "output_type": "execute_result"
    }
   ],
   "source": [
    "\n",
    "\n",
    "model = Sequential([\n",
    "    Dense(32, activation='relu', input_shape=(X_train.shape[1],)),  # Hidden layer with 64 units\n",
    "    Dense(64, activation='relu'),  # Another hidden layer\n",
    "    Dense(1, activation='sigmoid')  # Output layer for binary classification\n",
    "])\n",
    "\n",
    "# Compile the model\n",
    "model.compile(optimizer='adam', loss='binary_crossentropy', metrics=['accuracy'])\n",
    "\n",
    "# Summary of the model\n",
    "model.summary(),X_train.shape[1]"
   ]
  },
  {
   "cell_type": "code",
   "execution_count": 87,
   "id": "dbe7e3ae",
   "metadata": {},
   "outputs": [
    {
     "name": "stdout",
     "output_type": "stream",
     "text": [
      "Epoch 1/20\n",
      "3/3 [==============================] - 0s 26ms/step - loss: 0.7376 - accuracy: 0.5227 - val_loss: 0.6591 - val_accuracy: 0.6000\n",
      "Epoch 2/20\n",
      "3/3 [==============================] - 0s 7ms/step - loss: 0.6995 - accuracy: 0.5455 - val_loss: 0.6141 - val_accuracy: 0.8000\n",
      "Epoch 3/20\n",
      "3/3 [==============================] - 0s 6ms/step - loss: 0.6677 - accuracy: 0.6136 - val_loss: 0.5767 - val_accuracy: 0.8000\n",
      "Epoch 4/20\n",
      "3/3 [==============================] - 0s 6ms/step - loss: 0.6462 - accuracy: 0.7045 - val_loss: 0.5480 - val_accuracy: 0.8000\n",
      "Epoch 5/20\n",
      "3/3 [==============================] - 0s 5ms/step - loss: 0.6259 - accuracy: 0.7273 - val_loss: 0.5261 - val_accuracy: 0.8000\n",
      "Epoch 6/20\n",
      "3/3 [==============================] - 0s 10ms/step - loss: 0.6102 - accuracy: 0.7727 - val_loss: 0.5071 - val_accuracy: 0.8000\n",
      "Epoch 7/20\n",
      "3/3 [==============================] - 0s 5ms/step - loss: 0.5965 - accuracy: 0.7500 - val_loss: 0.4897 - val_accuracy: 1.0000\n",
      "Epoch 8/20\n",
      "3/3 [==============================] - 0s 5ms/step - loss: 0.5841 - accuracy: 0.7500 - val_loss: 0.4711 - val_accuracy: 1.0000\n",
      "Epoch 9/20\n",
      "3/3 [==============================] - 0s 5ms/step - loss: 0.5732 - accuracy: 0.7273 - val_loss: 0.4512 - val_accuracy: 1.0000\n",
      "Epoch 10/20\n",
      "3/3 [==============================] - 0s 5ms/step - loss: 0.5627 - accuracy: 0.7273 - val_loss: 0.4357 - val_accuracy: 1.0000\n",
      "Epoch 11/20\n",
      "3/3 [==============================] - 0s 5ms/step - loss: 0.5531 - accuracy: 0.7273 - val_loss: 0.4168 - val_accuracy: 1.0000\n",
      "Epoch 12/20\n",
      "3/3 [==============================] - 0s 6ms/step - loss: 0.5445 - accuracy: 0.7273 - val_loss: 0.3978 - val_accuracy: 1.0000\n",
      "Epoch 13/20\n",
      "3/3 [==============================] - 0s 6ms/step - loss: 0.5346 - accuracy: 0.7500 - val_loss: 0.3825 - val_accuracy: 1.0000\n",
      "Epoch 14/20\n",
      "3/3 [==============================] - 0s 6ms/step - loss: 0.5300 - accuracy: 0.7955 - val_loss: 0.3654 - val_accuracy: 1.0000\n",
      "Epoch 15/20\n",
      "3/3 [==============================] - 0s 5ms/step - loss: 0.5221 - accuracy: 0.7955 - val_loss: 0.3516 - val_accuracy: 1.0000\n",
      "Epoch 16/20\n",
      "3/3 [==============================] - 0s 6ms/step - loss: 0.5143 - accuracy: 0.7955 - val_loss: 0.3403 - val_accuracy: 1.0000\n",
      "Epoch 17/20\n",
      "3/3 [==============================] - 0s 5ms/step - loss: 0.5079 - accuracy: 0.7727 - val_loss: 0.3288 - val_accuracy: 1.0000\n",
      "Epoch 18/20\n",
      "3/3 [==============================] - 0s 8ms/step - loss: 0.5027 - accuracy: 0.7727 - val_loss: 0.3221 - val_accuracy: 1.0000\n",
      "Epoch 19/20\n",
      "3/3 [==============================] - 0s 2ms/step - loss: 0.4956 - accuracy: 0.7727 - val_loss: 0.3100 - val_accuracy: 1.0000\n",
      "Epoch 20/20\n",
      "3/3 [==============================] - 0s 1ms/step - loss: 0.4900 - accuracy: 0.7727 - val_loss: 0.3010 - val_accuracy: 1.0000\n"
     ]
    }
   ],
   "source": [
    "# Train the model\n",
    "history = model.fit(X_train, y_train, epochs=20, batch_size=16, validation_split=0.1)\n"
   ]
  },
  {
   "cell_type": "code",
   "execution_count": 88,
   "id": "90678bad",
   "metadata": {},
   "outputs": [
    {
     "name": "stdout",
     "output_type": "stream",
     "text": [
      "1/1 [==============================] - 0s 1ms/step - loss: 0.4348 - accuracy: 0.9231\n",
      "Test Accuracy: 0.9230769276618958\n"
     ]
    }
   ],
   "source": [
    "# Evaluate the model\n",
    "test_loss, test_acc = model.evaluate(X_test, y_test)\n",
    "print(f'Test Accuracy: {test_acc}')\n"
   ]
  },
  {
   "cell_type": "code",
   "execution_count": 89,
   "id": "4b96c93c",
   "metadata": {},
   "outputs": [
    {
     "data": {
      "image/png": "[encoded data removed]",
      "text/plain": [
       "<Figure size 640x480 with 1 Axes>"
      ]
     },
     "metadata": {},
     "output_type": "display_data"
    }
   ],
   "source": [
    "import matplotlib.pyplot as plt \n",
    "\n",
    "plt.plot(range(0,len(history.history['accuracy'])),history.history['accuracy'],label='Accuracy')\n",
    "plt.plot(range(0,len(history.history['loss'])),history.history['loss'],label='loss')\n",
    "plt.plot(range(0,len(history.history['val_loss'])),history.history['val_loss'],label='val_loss')\n",
    "plt.plot(range(0,len(history.history['val_accuracy'])),history.history['val_accuracy'],label='val_accuracy')\n",
    "plt.legend()\n",
    "plt.show()"
   ]
  },
  {
   "cell_type": "markdown",
   "id": "e762b92d",
   "metadata": {},
   "source": [
    "### Save the Model"
   ]
  },
  {
   "cell_type": "code",
   "execution_count": null,
   "id": "2b7ec5c4",
   "metadata": {},
   "outputs": [],
   "source": [
    "model.save('C:/Users/KOTA SRI SURYA TEJA/Desktop/Capstone/final_model.h5')"
   ]
  },
  {
   "cell_type": "markdown",
   "id": "aed0fde1",
   "metadata": {},
   "source": [
    " ### Save the StandardScaler normalization values"
   ]
  },
  {
   "cell_type": "code",
   "execution_count": 91,
   "id": "6409de96",
   "metadata": {},
   "outputs": [
    {
     "data": {
      "text/plain": [
       "['C:/Users/KOTA SRI SURYA TEJA/Desktop/Capstone/scaler.pkl']"
      ]
     },
     "execution_count": 91,
     "metadata": {},
     "output_type": "execute_result"
    }
   ],
   "source": [
    "import joblib\n",
    "joblib.dump(scaler, 'C:/Users/KOTA SRI SURYA TEJA/Desktop/Capstone/scaler.pkl')"
   ]
  },
  {
   "cell_type": "code",
   "execution_count": null,
   "id": "3b9b99ab",
   "metadata": {},
   "outputs": [],
   "source": [
    "scaler = joblib.load('C:/Users/KOTA SRI SURYA TEJA/Desktop/Capstone/scaler.pkl')\n"
   ]
  }
 ],
 "metadata": {
  "kernelspec": {
   "display_name": "main",
   "language": "python",
   "name": "main"
  },
  "language_info": {
   "codemirror_mode": {
    "name": "ipython",
    "version": 3
   },
   "file_extension": ".py",
   "mimetype": "text/x-python",
   "name": "python",
   "nbconvert_exporter": "python",
   "pygments_lexer": "ipython3",
   "version": "3.8.19"
  }
 },
 "nbformat": 4,
 "nbformat_minor": 5
}
